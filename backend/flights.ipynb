{
 "cells": [
  {
   "cell_type": "code",
   "execution_count": 54,
   "metadata": {},
   "outputs": [],
   "source": [
    "from flask import Flask, request, jsonify\n",
    "import pandas as pd\n",
    "import json\n",
    "\n",
    "data = json.load(open('flights.json'))['data']\n",
    "\n",
    "dict_list = []\n",
    "for d in range(len(data)):\n",
    "    flight = d+1\n",
    "    id = data[d]['id']\n",
    "    price = data[d]['price']['total']\n",
    "    itinerary_list = []\n",
    "    for i in range(len(data[d]['itineraries'])):\n",
    "        itinerary = i+1\n",
    "        segment_list = []\n",
    "        iDuration = data[d]['itineraries'][i]['duration']\n",
    "        segments = len(data[d]['itineraries'][i]['segments'])\n",
    "        for s in range(len(data[d]['itineraries'][i]['segments'])):\n",
    "            segment = s+1\n",
    "            departureCode = data[d]['itineraries'][i]['segments'][s]['departure']['iataCode']\n",
    "            departureTime = data[d]['itineraries'][i]['segments'][s]['departure']['at']\n",
    "            arrivalCode = data[d]['itineraries'][i]['segments'][s]['arrival']['iataCode']\n",
    "            arrivalTime = data[d]['itineraries'][i]['segments'][s]['arrival']['at']\n",
    "            carrierCode = data[d]['itineraries'][i]['segments'][s]['carrierCode']\n",
    "            sDuration = data[d]['itineraries'][i]['segments'][s]['duration']\n",
    "\n",
    "            segment_dict = {\n",
    "                            'id': id,\n",
    "                            'itinerary': itinerary,\n",
    "                            'segment': segment, \n",
    "                            'segments': segments, \n",
    "                            'segDuration': sDuration,\n",
    "                            'departureCode': departureCode,\n",
    "                            'departureTime': departureTime, \n",
    "                            'arrivalCode': arrivalCode, \n",
    "                            'arrivalTime': arrivalTime, \n",
    "                            'price': price, \n",
    "                            'carrierCode': carrierCode, \n",
    "                            'itinDuration': iDuration\n",
    "                            }\n",
    "            segment_list.append(segment_dict)\n",
    "        itinerary_list.append({f\"{'departure' if itinerary == 1 else 'Return'}\": segment_list})\n",
    "    dict_list.append({f\"flightOffer{flight}\": itinerary_list})\n",
    "\n",
    "\n",
    "df = pd.DataFrame(dict_list)\n",
    "data = df.to_dict('records')"
   ]
  },
  {
   "cell_type": "code",
   "execution_count": 59,
   "metadata": {},
   "outputs": [
    {
     "data": {
      "text/plain": [
       "{'Return': [{'id': '1',\n",
       "   'itinerary': 2,\n",
       "   'segment': 1,\n",
       "   'segments': 3,\n",
       "   'segDuration': 'PT1H42M',\n",
       "   'departureCode': 'MSP',\n",
       "   'departureTime': '2022-11-29T18:45:00',\n",
       "   'arrivalCode': 'DTW',\n",
       "   'arrivalTime': '2022-11-29T21:27:00',\n",
       "   'price': '2325.50',\n",
       "   'carrierCode': 'NK',\n",
       "   'itinDuration': 'PT38H5M'},\n",
       "  {'id': '1',\n",
       "   'itinerary': 2,\n",
       "   'segment': 2,\n",
       "   'segments': 3,\n",
       "   'segDuration': 'PT1H50M',\n",
       "   'departureCode': 'DTW',\n",
       "   'departureTime': '2022-11-30T11:00:00',\n",
       "   'arrivalCode': 'MYR',\n",
       "   'arrivalTime': '2022-11-30T12:50:00',\n",
       "   'price': '2325.50',\n",
       "   'carrierCode': 'NK',\n",
       "   'itinDuration': 'PT38H5M'},\n",
       "  {'id': '1',\n",
       "   'itinerary': 2,\n",
       "   'segment': 3,\n",
       "   'segments': 3,\n",
       "   'segDuration': 'PT1H20M',\n",
       "   'departureCode': 'MYR',\n",
       "   'departureTime': '2022-12-01T08:30:00',\n",
       "   'arrivalCode': 'ACY',\n",
       "   'arrivalTime': '2022-12-01T09:50:00',\n",
       "   'price': '2325.50',\n",
       "   'carrierCode': 'NK',\n",
       "   'itinDuration': 'PT38H5M'}]}"
      ]
     },
     "execution_count": 59,
     "metadata": {},
     "output_type": "execute_result"
    }
   ],
   "source": [
    "data[0]['flightOffer1'][1]"
   ]
  }
 ],
 "metadata": {
  "kernelspec": {
   "display_name": "Python 3.10.6 64-bit",
   "language": "python",
   "name": "python3"
  },
  "language_info": {
   "codemirror_mode": {
    "name": "ipython",
    "version": 3
   },
   "file_extension": ".py",
   "mimetype": "text/x-python",
   "name": "python",
   "nbconvert_exporter": "python",
   "pygments_lexer": "ipython3",
   "version": "3.10.6"
  },
  "orig_nbformat": 4,
  "vscode": {
   "interpreter": {
    "hash": "fa44bd152bd886a8ab0183278348ca2292c1ff846bbe30f1df2c2835d6bae618"
   }
  }
 },
 "nbformat": 4,
 "nbformat_minor": 2
}
