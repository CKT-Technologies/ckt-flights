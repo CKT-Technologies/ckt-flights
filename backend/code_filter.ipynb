{
 "cells": [
  {
   "cell_type": "code",
   "execution_count": null,
   "metadata": {},
   "outputs": [],
   "source": [
    "import requests\n",
    "import pandas as pd\n",
    "\n",
    "full_df = pd.read_csv('codes_raw.csv')\n",
    "full_df = full_df[full_df['iata_code'].notna()]\n",
    "\n",
    "strip_df = full_df.copy()\n",
    "strip_df = strip_df[strip_df['name'].str.contains('strip')]\n",
    "\n",
    "strip_codes = strip_df['iata_code'].tolist()\n",
    "\n",
    "not_found_list = []\n",
    "for i in range(len(strip_codes)):\n",
    "    input_code = strip_codes[i]\n",
    "\n",
    "    url = f'https://www.travelocity.com/api/v4/typeahead/{input_code}?browser=Chrome&client=Homepage&dest=true&device=Desktop&expuserid=-1&features=nearby_airport%7Cta_hierarchy%7Cconsistent_display&format=json&guid=7da5874a-d90e-4acf-9531-b340a1d2e416&lob=FLIGHTS&locale=en_US&maxresults=10&personalize=true&regiontype=4959&siteid=80001&ab=42716.1'\n",
    "    res = requests.get(url).json()\n",
    "    output_code = res['sr'][0]['hierarchyInfo']['airport']['airportCode']\n",
    "\n",
    "    if input_code != output_code:\n",
    "        not_found_list.append(input_code)\n",
    "\n",
    "final_df = full_df[~full_df['iata_code'].isin(not_found_list)]\n",
    "\n",
    "final_df['lng'] = final_df['coordinates'].astype(\n",
    "    str).str.split(',', expand=True)[0].str.replace(' ', '')\n",
    "\n",
    "final_df['lat'] = final_df['coordinates'].astype(\n",
    "    str).str.split(',', expand=True)[1].str.replace(' ', '')\n",
    "\n",
    "\n",
    "final_strings = []\n",
    "for i in range(len(final_df)):\n",
    "    row = final_df.iloc[i]\n",
    "    code = {\n",
    "        'code': row['iata_code'],\n",
    "        'name1': row['name'],\n",
    "        'name2': f\"{row['iata_code']} - {row['name']}\",\n",
    "        'lat': row['lat'], 'lng': row['lng']\n",
    "    }\n",
    "    final_strings.append(code)\n",
    "\n",
    "final_strings.head(10)\n"
   ]
  },
  {
   "cell_type": "code",
   "execution_count": null,
   "metadata": {},
   "outputs": [],
   "source": [
    "import json\n",
    "with open('filtered_codes.json', 'w') as f:\n",
    "    json.dump(final_strings, f)\n"
   ]
  }
 ],
 "metadata": {
  "kernelspec": {
   "display_name": "Python 3.10.6 64-bit",
   "language": "python",
   "name": "python3"
  },
  "language_info": {
   "codemirror_mode": {
    "name": "ipython",
    "version": 3
   },
   "file_extension": ".py",
   "mimetype": "text/x-python",
   "name": "python",
   "nbconvert_exporter": "python",
   "pygments_lexer": "ipython3",
   "version": "3.10.6"
  },
  "orig_nbformat": 4,
  "vscode": {
   "interpreter": {
    "hash": "fa44bd152bd886a8ab0183278348ca2292c1ff846bbe30f1df2c2835d6bae618"
   }
  }
 },
 "nbformat": 4,
 "nbformat_minor": 2
}
