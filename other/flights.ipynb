{
 "cells": [
  {
   "cell_type": "code",
   "execution_count": 11,
   "metadata": {},
   "outputs": [
    {
     "name": "stdout",
     "output_type": "stream",
     "text": [
      "[]\n"
     ]
    },
    {
     "ename": "IndexError",
     "evalue": "list index out of range",
     "output_type": "error",
     "traceback": [
      "\u001b[1;31m---------------------------------------------------------------------------\u001b[0m",
      "\u001b[1;31mIndexError\u001b[0m                                Traceback (most recent call last)",
      "Cell \u001b[1;32mIn [11], line 23\u001b[0m\n\u001b[0;32m     16\u001b[0m     response \u001b[39m=\u001b[39m amadeus\u001b[39m.\u001b[39mshopping\u001b[39m.\u001b[39mflight_offers_search\u001b[39m.\u001b[39mget(\n\u001b[0;32m     17\u001b[0m         originLocationCode\u001b[39m=\u001b[39m\u001b[39m'\u001b[39m\u001b[39mMSP\u001b[39m\u001b[39m'\u001b[39m,\n\u001b[0;32m     18\u001b[0m         destinationLocationCode\u001b[39m=\u001b[39m\u001b[39m'\u001b[39m\u001b[39mAMS\u001b[39m\u001b[39m'\u001b[39m,\n\u001b[0;32m     19\u001b[0m         departureDate\u001b[39m=\u001b[39m\u001b[39m'\u001b[39m\u001b[39m2022-11-25\u001b[39m\u001b[39m'\u001b[39m,\n\u001b[0;32m     20\u001b[0m         returnDate\u001b[39m=\u001b[39m\u001b[39m'\u001b[39m\u001b[39m2022-11-25\u001b[39m\u001b[39m'\u001b[39m,\n\u001b[0;32m     21\u001b[0m         adults\u001b[39m=\u001b[39m\u001b[39m1\u001b[39m)\n\u001b[0;32m     22\u001b[0m     \u001b[39mprint\u001b[39m(response\u001b[39m.\u001b[39mdata)\n\u001b[1;32m---> 23\u001b[0m     \u001b[39mprint\u001b[39m(response\u001b[39m.\u001b[39;49mdata[\u001b[39m0\u001b[39;49m])\n\u001b[0;32m     25\u001b[0m \u001b[39mexcept\u001b[39;00m ResponseError \u001b[39mas\u001b[39;00m error:\n\u001b[0;32m     26\u001b[0m     \u001b[39mprint\u001b[39m(error)\n",
      "\u001b[1;31mIndexError\u001b[0m: list index out of range"
     ]
    }
   ],
   "source": [
    "from amadeus import Client, ResponseError\n",
    "from dotenv import load_dotenv\n",
    "import os\n",
    "\n",
    "load_dotenv()\n",
    "\n",
    "CLIENT_ID = os.getenv('CLIENT_ID')\n",
    "CLIENT_SECRET = os.getenv('CLIENT_SECRET')\n",
    "\n",
    "amadeus = Client(\n",
    "    client_id=CLIENT_ID,\n",
    "    client_secret=CLIENT_SECRET\n",
    ")\n",
    "\n",
    "try:\n",
    "    response = amadeus.shopping.flight_offers_search.get(\n",
    "        originLocationCode='MSP',\n",
    "        destinationLocationCode='AMS',\n",
    "        departureDate='2022-11-25',\n",
    "        returnDate='2022-11-25',\n",
    "        adults=1)\n",
    "    print(response.data[0])\n",
    "    \n",
    "except ResponseError as error:\n",
    "    print(error)"
   ]
  },
  {
   "cell_type": "code",
   "execution_count": 7,
   "metadata": {},
   "outputs": [
    {
     "ename": "IndexError",
     "evalue": "list index out of range",
     "output_type": "error",
     "traceback": [
      "\u001b[1;31m---------------------------------------------------------------------------\u001b[0m",
      "\u001b[1;31mIndexError\u001b[0m                                Traceback (most recent call last)",
      "Cell \u001b[1;32mIn [7], line 1\u001b[0m\n\u001b[1;32m----> 1\u001b[0m response\u001b[39m.\u001b[39;49mdata[\u001b[39m0\u001b[39;49m]\n",
      "\u001b[1;31mIndexError\u001b[0m: list index out of range"
     ]
    }
   ],
   "source": [
    "response.data[0]"
   ]
  },
  {
   "cell_type": "code",
   "execution_count": null,
   "metadata": {},
   "outputs": [],
   "source": []
  }
 ],
 "metadata": {
  "kernelspec": {
   "display_name": "Python 3.10.6 64-bit",
   "language": "python",
   "name": "python3"
  },
  "language_info": {
   "codemirror_mode": {
    "name": "ipython",
    "version": 3
   },
   "file_extension": ".py",
   "mimetype": "text/x-python",
   "name": "python",
   "nbconvert_exporter": "python",
   "pygments_lexer": "ipython3",
   "version": "3.10.6"
  },
  "orig_nbformat": 4,
  "vscode": {
   "interpreter": {
    "hash": "fa44bd152bd886a8ab0183278348ca2292c1ff846bbe30f1df2c2835d6bae618"
   }
  }
 },
 "nbformat": 4,
 "nbformat_minor": 2
}
